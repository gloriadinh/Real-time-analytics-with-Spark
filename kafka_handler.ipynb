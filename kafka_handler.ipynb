{
 "cells": [
  {
   "cell_type": "code",
   "execution_count": null,
   "metadata": {},
   "outputs": [],
   "source": [
    "from confluent_kafka import Producer\n",
    "from pyspark.sql import SparkSession  # Không cần import từ utils\n",
    "import json\n",
    "import time\n",
    "import random\n",
    "from datetime import datetime\n",
    "\n",
    "# Kafka producer configuration\n",
    "producer = Producer({\n",
    "    'bootstrap.servers': 'localhost:9092'\n",
    "})\n",
    "\n",
    "# Function to generate fake transaction data\n",
    "def generate_fake_transaction():\n",
    "    transaction_id = f\"{random.randint(10000, 99999)}\"\n",
    "    user_id = f\"{random.randint(1000, 9999)}\"\n",
    "    amount = round(random.uniform(10.0, 10000.0), 2)\n",
    "    timestamp = datetime.utcnow().strftime(\"%Y-%m-%dT%H:%M:%SZ\")\n",
    "    return {\n",
    "        \"transaction_id\": transaction_id,\n",
    "        \"user_id\": user_id,\n",
    "        \"amount\": amount,\n",
    "        \"timestamp\": timestamp\n",
    "    }\n",
    "\n",
    "try:\n",
    "    while True:\n",
    "        # Generate a fake transaction\n",
    "        fake_transaction = generate_fake_transaction()\n",
    "\n",
    "        # Send the transaction to the Kafka topic\n",
    "        producer.produce('ecommerce_topic', value=json.dumps(fake_transaction))\n",
    "        print(f\"Sent: {fake_transaction}\")\n",
    "\n",
    "        # Wait for a second before sending the next transaction\n",
    "        time.sleep(1)\n",
    "except KeyboardInterrupt:\n",
    "    print(\"Stopped sending messages.\")\n"
   ]
  }
 ],
 "metadata": {
  "kernelspec": {
   "display_name": "Python 3",
   "language": "python",
   "name": "python3"
  },
  "language_info": {
   "codemirror_mode": {
    "name": "ipython",
    "version": 3
   },
   "file_extension": ".py",
   "mimetype": "text/x-python",
   "name": "python",
   "nbconvert_exporter": "python",
   "pygments_lexer": "ipython3",
   "version": "3.12.0"
  }
 },
 "nbformat": 4,
 "nbformat_minor": 2
}
